{
 "cells": [
  {
   "cell_type": "markdown",
   "metadata": {},
   "source": [
    "# Stemming\n",
    "\n",
    "*The idea of stemming is a sort of normalizing method. Many variations of words carry the same meaning, other than when tense is involved.*\n",
    "\n",
    "**One of the most popular stemming algorithms is the Porter stemmer**"
   ]
  },
  {
   "cell_type": "code",
   "execution_count": 1,
   "metadata": {
    "collapsed": true
   },
   "outputs": [],
   "source": [
    "from nltk.stem import PorterStemmer\n",
    "from nltk.tokenize import word_tokenize, sent_tokenize\n",
    "ps = PorterStemmer()"
   ]
  },
  {
   "cell_type": "code",
   "execution_count": 2,
   "metadata": {
    "collapsed": true
   },
   "outputs": [],
   "source": [
    "words = ['python', 'pythoning', 'pythoner', 'pythoned', 'pythonly', 'pythonest']"
   ]
  },
  {
   "cell_type": "code",
   "execution_count": 3,
   "metadata": {},
   "outputs": [
    {
     "name": "stdout",
     "output_type": "stream",
     "text": [
      "Before Stemming\n",
      "['python', 'pythoning', 'pythoner', 'pythoned', 'pythonly', 'pythonest']\n"
     ]
    }
   ],
   "source": [
    "print('Before Stemming')\n",
    "print(words)"
   ]
  },
  {
   "cell_type": "code",
   "execution_count": 4,
   "metadata": {},
   "outputs": [
    {
     "name": "stdout",
     "output_type": "stream",
     "text": [
      "After Stemming\n",
      "python\n",
      "python\n",
      "python\n",
      "python\n",
      "pythonli\n",
      "pythonest\n"
     ]
    }
   ],
   "source": [
    "print('After Stemming')\n",
    "for i in words:\n",
    "    print(ps.stem(i))"
   ]
  },
  {
   "cell_type": "code",
   "execution_count": 5,
   "metadata": {
    "collapsed": true
   },
   "outputs": [],
   "source": [
    "Example = \"\"\"Hello Mr. Maharshi. How are you? Mr. Narendra Modi & Mr. Donald Trump is waiting for you. When will you meet them? They want to collobrate with you for Technology. This is great chance. Let's take it\"\"\""
   ]
  },
  {
   "cell_type": "code",
   "execution_count": 6,
   "metadata": {},
   "outputs": [
    {
     "name": "stdout",
     "output_type": "stream",
     "text": [
      "Before Stemming\n",
      "['Hello', 'Mr.', 'Maharshi', '.', 'How', 'are', 'you', '?', 'Mr.', 'Narendra', 'Modi', '&', 'Mr.', 'Donald', 'Trump', 'is', 'waiting', 'for', 'you', '.', 'When', 'will', 'you', 'meet', 'them', '?', 'They', 'want', 'to', 'collobrate', 'with', 'you', 'for', 'Technology', '.', 'This', 'is', 'great', 'chance', '.', 'Let', \"'s\", 'take', 'it']\n"
     ]
    }
   ],
   "source": [
    "print('Before Stemming')\n",
    "print(word_tokenize(Example))"
   ]
  },
  {
   "cell_type": "code",
   "execution_count": 7,
   "metadata": {},
   "outputs": [
    {
     "name": "stdout",
     "output_type": "stream",
     "text": [
      "After Stemming\n",
      "['hello', 'mr.', 'maharshi', '.', 'how', 'are', 'you', '?', 'mr.', 'narendra', 'modi', '&', 'mr.', 'donald', 'trump', 'is', 'wait', 'for', 'you', '.', 'when', 'will', 'you', 'meet', 'them', '?', 'they', 'want', 'to', 'collobr', 'with', 'you', 'for', 'technolog', '.', 'thi', 'is', 'great', 'chanc', '.', 'let', \"'s\", 'take', 'it']\n"
     ]
    }
   ],
   "source": [
    "print('After Stemming')\n",
    "l = []\n",
    "words = word_tokenize(Example)\n",
    "for w in words:\n",
    "    l.append(ps.stem(w))\n",
    "print(l)"
   ]
  },
  {
   "cell_type": "code",
   "execution_count": null,
   "metadata": {
    "collapsed": true
   },
   "outputs": [],
   "source": []
  }
 ],
 "metadata": {
  "kernelspec": {
   "display_name": "Python 3",
   "language": "python",
   "name": "python3"
  },
  "language_info": {
   "codemirror_mode": {
    "name": "ipython",
    "version": 3
   },
   "file_extension": ".py",
   "mimetype": "text/x-python",
   "name": "python",
   "nbconvert_exporter": "python",
   "pygments_lexer": "ipython3",
   "version": "3.6.3"
  }
 },
 "nbformat": 4,
 "nbformat_minor": 2
}
