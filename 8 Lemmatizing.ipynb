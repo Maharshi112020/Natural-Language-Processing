{
 "cells": [
  {
   "cell_type": "markdown",
   "metadata": {},
   "source": [
    "# Lemmatizing \n",
    "\n",
    "*Lemmatization is the process of grouping together the different inflected forms of a word so they can be analysed as a single item. Lemmatization is similar to stemming but it brings context to the words.*"
   ]
  },
  {
   "cell_type": "code",
   "execution_count": 1,
   "metadata": {
    "collapsed": true
   },
   "outputs": [],
   "source": [
    "from nltk.stem import WordNetLemmatizer"
   ]
  },
  {
   "cell_type": "code",
   "execution_count": 2,
   "metadata": {
    "collapsed": true
   },
   "outputs": [],
   "source": [
    "lema = WordNetLemmatizer()"
   ]
  },
  {
   "cell_type": "code",
   "execution_count": 3,
   "metadata": {},
   "outputs": [
    {
     "name": "stdout",
     "output_type": "stream",
     "text": [
      "cat\n",
      "catci\n",
      "goose\n",
      "geeser\n",
      "horse\n",
      "rock\n",
      "python\n",
      "snake\n",
      "anaconda\n",
      "dogy\n",
      "dogi\n"
     ]
    }
   ],
   "source": [
    "print(lema.lemmatize('cats'))\n",
    "print(lema.lemmatize('catci'))\n",
    "print(lema.lemmatize('geese'))\n",
    "print(lema.lemmatize('geeser'))\n",
    "print(lema.lemmatize('horse'))\n",
    "print(lema.lemmatize('rocks'))\n",
    "print(lema.lemmatize('python'))\n",
    "print(lema.lemmatize('snake'))\n",
    "print(lema.lemmatize('anaconda'))\n",
    "print(lema.lemmatize('dogy'))\n",
    "print(lema.lemmatize('dogi'))"
   ]
  },
  {
   "cell_type": "code",
   "execution_count": null,
   "metadata": {
    "collapsed": true
   },
   "outputs": [],
   "source": []
  }
 ],
 "metadata": {
  "kernelspec": {
   "display_name": "Python 3",
   "language": "python",
   "name": "python3"
  },
  "language_info": {
   "codemirror_mode": {
    "name": "ipython",
    "version": 3
   },
   "file_extension": ".py",
   "mimetype": "text/x-python",
   "name": "python",
   "nbconvert_exporter": "python",
   "pygments_lexer": "ipython3",
   "version": "3.6.3"
  }
 },
 "nbformat": 4,
 "nbformat_minor": 2
}
