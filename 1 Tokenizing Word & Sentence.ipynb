{
 "cells": [
  {
   "cell_type": "markdown",
   "metadata": {},
   "source": [
    "# Tokenizing\n",
    "\n",
    "*Splitting sentences and words from the body of text.Part of Speech tagging*"
   ]
  },
  {
   "cell_type": "markdown",
   "metadata": {},
   "source": [
    "## Important Term\n",
    "\n",
    "*Corpus - Body of text, singular. Corpora is the plural of this. Example: A collection of medical journals.*\n",
    "\n",
    "*Lexicon - Words and their meanings. Example: English dictionary. Consider, however, that various fields will have different lexicons. For example: To a financial investor, the first meaning for the word \"Bull\" is someone who is confident about the market, as compared to the common English lexicon, where the first meaning for the word \"Bull\" is an animal. As such, there is a special lexicon for financial investors, doctors, children, mechanics, and so on.*\n",
    "\n",
    "*Token - Each \"entity\" that is a part of whatever was split up based on rules. For examples, each word is a token when a sentence is \"tokenized\" into words. Each sentence can also be a token, if you tokenized the sentences out of a paragraph.*"
   ]
  },
  {
   "cell_type": "markdown",
   "metadata": {},
   "source": [
    "### sent_tokenize\n",
    "*the sentences, split up into a list of sentences*\n",
    "\n",
    "### word_tokenize\n",
    "*the sentences, split up into a list of words*"
   ]
  },
  {
   "cell_type": "code",
   "execution_count": 1,
   "metadata": {
    "collapsed": true
   },
   "outputs": [],
   "source": [
    "from nltk.tokenize import word_tokenize, sent_tokenize\n",
    "\n",
    "Example = \"\"\"Hello Mr. Maharshi. How are you? Mr. Narendra Modi & Mr. Donald Trump is waiting for you. When will you meet them? They want to collobrate with you for Technology. This is great chance. Let's take it\"\"\""
   ]
  },
  {
   "cell_type": "code",
   "execution_count": 2,
   "metadata": {},
   "outputs": [
    {
     "data": {
      "text/plain": [
       "['Hello Mr. Maharshi.',\n",
       " 'How are you?',\n",
       " 'Mr. Narendra Modi & Mr. Donald Trump is waiting for you.',\n",
       " 'When will you meet them?',\n",
       " 'They want to collobrate with you for Technology.',\n",
       " 'This is great chance.',\n",
       " \"Let's take it\"]"
      ]
     },
     "execution_count": 2,
     "metadata": {},
     "output_type": "execute_result"
    }
   ],
   "source": [
    "sent_tokenize(Example)"
   ]
  },
  {
   "cell_type": "code",
   "execution_count": 3,
   "metadata": {},
   "outputs": [
    {
     "data": {
      "text/plain": [
       "['Hello',\n",
       " 'Mr.',\n",
       " 'Maharshi',\n",
       " '.',\n",
       " 'How',\n",
       " 'are',\n",
       " 'you',\n",
       " '?',\n",
       " 'Mr.',\n",
       " 'Narendra',\n",
       " 'Modi',\n",
       " '&',\n",
       " 'Mr.',\n",
       " 'Donald',\n",
       " 'Trump',\n",
       " 'is',\n",
       " 'waiting',\n",
       " 'for',\n",
       " 'you',\n",
       " '.',\n",
       " 'When',\n",
       " 'will',\n",
       " 'you',\n",
       " 'meet',\n",
       " 'them',\n",
       " '?',\n",
       " 'They',\n",
       " 'want',\n",
       " 'to',\n",
       " 'collobrate',\n",
       " 'with',\n",
       " 'you',\n",
       " 'for',\n",
       " 'Technology',\n",
       " '.',\n",
       " 'This',\n",
       " 'is',\n",
       " 'great',\n",
       " 'chance',\n",
       " '.',\n",
       " 'Let',\n",
       " \"'s\",\n",
       " 'take',\n",
       " 'it']"
      ]
     },
     "execution_count": 3,
     "metadata": {},
     "output_type": "execute_result"
    }
   ],
   "source": [
    "word_tokenize(Example)"
   ]
  },
  {
   "cell_type": "code",
   "execution_count": null,
   "metadata": {
    "collapsed": true
   },
   "outputs": [],
   "source": []
  }
 ],
 "metadata": {
  "kernelspec": {
   "display_name": "Python 3",
   "language": "python",
   "name": "python3"
  },
  "language_info": {
   "codemirror_mode": {
    "name": "ipython",
    "version": 3
   },
   "file_extension": ".py",
   "mimetype": "text/x-python",
   "name": "python",
   "nbconvert_exporter": "python",
   "pygments_lexer": "ipython3",
   "version": "3.6.3"
  }
 },
 "nbformat": 4,
 "nbformat_minor": 2
}
